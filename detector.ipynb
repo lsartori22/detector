{
  "nbformat": 4,
  "nbformat_minor": 0,
  "metadata": {
    "colab": {
      "name": "detector.ipynb",
      "provenance": [],
      "collapsed_sections": [],
      "toc_visible": true,
      "authorship_tag": "ABX9TyMRekgPLkZomBJzRtaKzxZM",
      "include_colab_link": true
    },
    "kernelspec": {
      "name": "python3",
      "display_name": "Python 3"
    }
  },
  "cells": [
    {
      "cell_type": "markdown",
      "metadata": {
        "id": "view-in-github",
        "colab_type": "text"
      },
      "source": [
        "<a href=\"https://colab.research.google.com/github/lsartori22/detector/blob/main/detector.ipynb\" target=\"_parent\"><img src=\"https://colab.research.google.com/assets/colab-badge.svg\" alt=\"Open In Colab\"/></a>"
      ]
    },
    {
      "cell_type": "markdown",
      "metadata": {
        "id": "sVCVxPsxzoN4"
      },
      "source": [
        "# Object Detector Example"
      ]
    },
    {
      "cell_type": "markdown",
      "metadata": {
        "id": "cqR2gRhwzhZL"
      },
      "source": [
        "## Downloading the Tensorflow Object detection API \n",
        "First of all, let's download the [tensorflow models ](https://github.com/tensorflow/models/) repository, <br> inside this repository has the objection detection api, that we will <br>use to train our ownobject detection model.\n",
        "<br>Everything that we will do, is inside the path models/research/object_detection."
      ]
    },
    {
      "cell_type": "code",
      "metadata": {
        "id": "6LrvQCP4yyTJ",
        "colab": {
          "base_uri": "https://localhost:8080/"
        },
        "outputId": "5be23491-032e-4f00-97b4-32212ff50825"
      },
      "source": [
        "!git clone https://github.com/tensorflow/models/\n",
        "%cd models/research/object_detection"
      ],
      "execution_count": 2,
      "outputs": [
        {
          "output_type": "stream",
          "text": [
            "Cloning into 'models'...\n",
            "remote: Enumerating objects: 47486, done.\u001b[K\n",
            "remote: Total 47486 (delta 0), reused 0 (delta 0), pack-reused 47486\u001b[K\n",
            "Receiving objects: 100% (47486/47486), 551.80 MiB | 31.69 MiB/s, done.\n",
            "Resolving deltas: 100% (32703/32703), done.\n",
            "/content/models/research/object_detection\n"
          ],
          "name": "stdout"
        }
      ]
    },
    {
      "cell_type": "markdown",
      "metadata": {
        "id": "RiSBtSae0KFw"
      },
      "source": [
        "Here we're just creating some folders that we will use it later.\n",
        "The command mkdir creates directories"
      ]
    },
    {
      "cell_type": "code",
      "metadata": {
        "id": "w_4Wqzw10IYn"
      },
      "source": [
        "!mkdir training\n",
        "!mkdir inference_graph\n",
        "!mkdir -p images/train\n",
        "!mkdir -p images/test"
      ],
      "execution_count": 3,
      "outputs": []
    }
  ]
}